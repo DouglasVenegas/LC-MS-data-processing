{
 "cells": [
  {
   "cell_type": "markdown",
   "id": "34b78888-0f13-4ebf-a491-d99fb59f1ed1",
   "metadata": {},
   "source": [
    "# MZmine-SIRIUS workflow\n",
    "\n",
    "This workflow is designed to work with data preprocessed with MZmine and SIRIUS (CANOPUS):\n",
    "1- Determine the number of features per sample\n",
    "2- Obtain the proportion of features per pathway NPC-taxonomy per sample.\n",
    "3- Obtain the proportion of features per superclass NPC-taxonomy per sample.\n",
    "4- Obtain the proportion of features per class NPC-taxonomy per sample."
   ]
  },
  {
   "cell_type": "markdown",
   "id": "47a02153-9884-4205-bf21-a891fd2bef6f",
   "metadata": {},
   "source": [
    "# Requirements\n",
    "Quant file (.csv)\n",
    "canopus_compound_summary file (.tsv)"
   ]
  },
  {
   "cell_type": "markdown",
   "id": "3ddfb209-8af2-4ad2-acfe-fe347272811e",
   "metadata": {},
   "source": [
    "# Load packages"
   ]
  },
  {
   "cell_type": "code",
   "execution_count": null,
   "id": "a8003265-4c10-475e-bba9-fb8aeb84430b",
   "metadata": {},
   "outputs": [],
   "source": [
    "# Load packages\n",
    "install.packages(c(\"svglite\",\"readr\",\"fuzzyjoin\", \"tidyverse\", \"readxl\", \"openxlsx\", \"dplyr\",\"stringr\", \"tidyr\",\"ggplot2\", \"writex1\"))\n",
    "library(fuzzyjoin)\n",
    "library(tidyverse)\n",
    "library(readxl)\n",
    "library(openxlsx)\n",
    "library(readr)\n",
    "library(dplyr)\n",
    "library(stringr)\n",
    "library(tidyr)\n",
    "library(ggplot2)\n",
    "library(stringr)\n",
    "library(svglite)\n",
    "library(writexl)"
   ]
  },
  {
   "cell_type": "markdown",
   "id": "d1fd8a2f-f86d-419f-bcb9-b408013db670",
   "metadata": {},
   "source": [
    "# Part 1"
   ]
  },
  {
   "cell_type": "markdown",
   "id": "1f0d8f62-d0ff-4ee9-a7ca-36d6694c419c",
   "metadata": {},
   "source": [
    "## Load data\n",
    "change the name as appropriate"
   ]
  },
  {
   "cell_type": "code",
   "execution_count": null,
   "id": "2b8ec4dc-5969-4025-b00c-1234393ecb76",
   "metadata": {},
   "outputs": [],
   "source": [
    "# Quant_File\n",
    "Quant <- read_csv(\"Quant_base.csv\") # change Quant file name\n",
    "Quant$`row ID` <- as.character(Quant$`row ID`)\n",
    "\n",
    "## Load CANOPUS predictions\n",
    "Canopus <- read_tsv(\"canopus_structure_summary.tsv\") # change Canopus file name\n",
    "Canopus$mappingFeatureId <- as.character(Canopus$mappingFeatureId)"
   ]
  },
  {
   "cell_type": "markdown",
   "id": "5acdb971-81c4-4d85-9000-14b74e971313",
   "metadata": {},
   "source": [
    "# Part 2\n",
    "## Number of features per sample"
   ]
  },
  {
   "cell_type": "markdown",
   "id": "1f68c283-a616-423b-93bb-3aa65c636f63",
   "metadata": {},
   "source": [
    "## Run the workflow to obtain the plot (Download from plot folder)"
   ]
  },
  {
   "cell_type": "code",
   "execution_count": 1,
   "id": "112966ee-a17f-4f66-b59f-c2f587b38f12",
   "metadata": {},
   "outputs": [
    {
     "ename": "ERROR",
     "evalue": "Error in Quant %>% left_join(Canopus, by = c(`row ID` = \"mappingFeatureId\")) %>% : no se pudo encontrar la función \"%>%\"\n",
     "output_type": "error",
     "traceback": [
      "Error in Quant %>% left_join(Canopus, by = c(`row ID` = \"mappingFeatureId\")) %>% : no se pudo encontrar la función \"%>%\"\nTraceback:\n"
     ]
    }
   ],
   "source": [
    "# Merge Canopus data with Quant data and filter out unwanted columns\n",
    "Quant_canopus_superclass <- Quant %>%\n",
    "  left_join(Canopus, by = c(\"row ID\" = \"mappingFeatureId\")) %>%\n",
    "  select(   -`identified by n=`,-`auto MS2 verify`,-`neutral M mass`, -`partners`, \n",
    "-`annotation network number`,  -`best ion`,-`correlation group ID`, -`row CCS`,-`row m/z`,\n",
    "-`row retention time`, -`row ion mobility`, -`row ion mobility unit` ,-ionMass, -formulaRank, \n",
    "-formulaId, -alignedFeatureId, -overallFeatureQuality, -retentionTimeInSeconds,\n",
    "-retentionTimeInMinutes, -molecularFormula, -adduct, -precursorFormula, -`NPC#pathway`,\n",
    "-`NPC#class`, -`NPC#pathway Probability`, -`NPC#superclass Probability`, \n",
    "-`ClassyFire#most specific class`, -`ClassyFire#most specific class Probability`,\n",
    "-`ClassyFire#level 5`, -`ClassyFire#level 5 Probability`, -`ClassyFire#superclass probability`, \n",
    "-`ClassyFire#all classifications`, -`ClassyFire#class Probability`, -`ClassyFire#class`, \n",
    "-`ClassyFire#superclass`, -`ClassyFire#subclass`, -`ClassyFire#subclass Probability`, -`NPC#class Probability`)\n",
    "\n",
    "# Function to obtain the columns in which a feature is present\n",
    "get_present_samples <- function(feature_row) {\n",
    "  present_samples <- names(feature_row)[!is.na(feature_row) & feature_row != 0]\n",
    "  paste(unique(present_samples), collapse = \", \")\n",
    "}\n",
    "\n",
    "# Select relevant columns and prepare the dataframe\n",
    "Quant_precurssor <- Quant_canopus_superclass %>%\n",
    "  select(-`NPC#superclass`)\n",
    "\n",
    "# Create dataframe with results\n",
    "Feature_per_sample <- data.frame(\n",
    "  Precursor = Quant_precurssor$`row ID`,\n",
    "  samples = sapply(apply(Quant_precurssor[, 2:ncol(Quant_precurssor)], 1, get_present_samples), \n",
    "                   function(x) paste(sub(\"\\\\..*\", \"\", unlist(strsplit(x, \",\"))), collapse = \",\")),\n",
    "  NPC_superclass = Quant_canopus_superclass$`NPC#superclass`\n",
    ")\n",
    "\n",
    "# Separate the `samples` column into individual rows\n",
    "Feature_per_sample_long <- Feature_per_sample %>%\n",
    "  separate_rows(samples, sep = \",\")%>%\n",
    "  mutate(samples = str_trim(samples)) \n",
    "\n",
    "\n",
    "# Count the amount of precursors per sample.\n",
    "Feature_sample <- Feature_per_sample_long %>%\n",
    "  group_by(samples) %>%\n",
    "  summarise(count = n())\n",
    "\n",
    "\n",
    "# plot\n",
    "plot=ggplot(Feature_sample, aes(x = samples, y = count)) +\n",
    "  geom_bar(stat = \"identity\", fill = \"steelblue\") +\n",
    "  geom_text(aes(label = count), vjust = -0.5, color = \"black\") +\n",
    "  labs(x = \"Sample\",\n",
    "       y = \"Number of features\") +\n",
    "  theme_minimal() +\n",
    "  theme(axis.text.x = element_text(angle = 60, hjust = 1),\n",
    "        panel.grid.major = element_blank(),\n",
    "        panel.grid.minor = element_blank())+\n",
    "  annotate(\"text\", x = Inf, y = Inf, label = \"A)\", \n",
    "           hjust = 1.1, vjust = 1.1, size = 6, fontface = \"bold\", color = \"black\")\n",
    "\n",
    "# Create the 'plot' folder if it does not exist\n",
    "if (!dir.exists(\"plot\")) {\n",
    "  dir.create(\"plot\")\n",
    "}\n",
    "\n",
    "# Save the plot in the 'plot' folder\n",
    "ggsave(\"plot/features_sample.png\", plot = plot, width = 10, height = 6)\n",
    "ggsave(\"plot/features_sample.svg\", plot = plot, width = 10, height = 6, device = "svg")\n",
    "\n",
    "plot"
   ]
  },
  {
   "cell_type": "markdown",
   "id": "cfac2d62-afc1-4a05-968f-2f6bfa6ecaf7",
   "metadata": {},
   "source": [
    "# Part 3\n",
    "## Proportion of Pathway taxony per sample"
   ]
  },
  {
   "cell_type": "code",
   "execution_count": null,
   "id": "1a7a9173-8574-4f42-8da5-f450f07e4654",
   "metadata": {},
   "outputs": [],
   "source": [
    "# Custom color palette\n",
    "custom_color_palette <- c(\n",
    "  \"#1b9e77\", \"#d95f02\", \"#7570b3\", \"#e7298a\", \"#66a61e\", \"#e6ab02\", \"#a6761d\", \"#666666\",\n",
    "  \"#8dd3c7\", \"#ffffb3\", \"#bebada\", \"#fb8072\", \"#80b1d3\", \"#fdb462\", \"#b3de69\", \"#fccde5\",\n",
    "  \"#e41a1c\", \"#8B8878\", \"#a6cee3\", \"#1f78b4\", \"#b2df8a\", \"#33a02c\", \"#fb9a99\", \"#e31a1c\",\n",
    "  \"#fdbf6f\", \"#ff7f00\", \"#cab2d6\", \"#6a3d9a\", \"#ffff99\", \"#b15928\"\n",
    ")"
   ]
  },
  {
   "cell_type": "code",
   "execution_count": null,
   "id": "67409def-a762-4617-a83f-f86c1656ce43",
   "metadata": {},
   "outputs": [],
   "source": [
    "Quant_canopus_pathway <- Quant %>%\n",
    "  left_join(Canopus, by = c(\"row ID\" = \"mappingFeatureId\")) %>%\n",
    "  select(   -`identified by n=`,-`auto MS2 verify`,-`neutral M mass`, -`partners`, \n",
    "            -`annotation network number`,  -`best ion`,-`correlation group ID`, -`row CCS`,-`row m/z`,\n",
    "            -`row retention time`, -`row ion mobility`, -`row ion mobility unit` ,-ionMass, -formulaRank, \n",
    "            -formulaId, -alignedFeatureId, -overallFeatureQuality, -retentionTimeInSeconds,\n",
    "            -retentionTimeInMinutes, -molecularFormula, -adduct, -precursorFormula, -`NPC#superclass`,\n",
    "            -`NPC#class`, -`NPC#pathway Probability`, -`NPC#superclass Probability`, \n",
    "            -`ClassyFire#most specific class`, -`ClassyFire#most specific class Probability`,\n",
    "            -`ClassyFire#level 5`, -`ClassyFire#level 5 Probability`, -`ClassyFire#superclass probability`, \n",
    "            -`ClassyFire#all classifications`, -`ClassyFire#class Probability`, -`ClassyFire#class`, \n",
    "            -`ClassyFire#superclass`, -`ClassyFire#subclass`, -`ClassyFire#subclass Probability`, -`NPC#class Probability`)\n",
    "\n",
    "# Create dataframe with results\n",
    "Feature_per_sample_pathway <- data.frame(\n",
    "  Precursor = Quant_precurssor$`row ID`,\n",
    "  samples = sapply(apply(Quant_precurssor[, 2:ncol(Quant_precurssor)], 1, get_present_samples), \n",
    "                   function(x) paste(sub(\"\\\\..*\", \"\", unlist(strsplit(x, \",\"))), collapse = \",\")),  # Limpia cada muestra\n",
    "  NPC_pathway = Quant_canopus_pathway$`NPC#pathway`\n",
    ")\n",
    "\n",
    "\n",
    "# Transforming data to long format for visualization\n",
    "Feature_per_sample_long_pathway  <- Feature_per_sample_pathway %>%\n",
    "  separate_rows(samples, sep = \",\") %>%\n",
    "  mutate(samples = trimws(samples)) %>%\n",
    "  mutate(NPC_pathway = ifelse(NPC_pathway %in% (Feature_per_sample_pathway %>%\n",
    "                                                        count(NPC_pathway) %>%\n",
    "                                                        top_n(15, wt = n) %>%\n",
    "                                                        pull(NPC_pathway)), NPC_pathway, \"Others\")) %>%\n",
    "  group_by(samples, NPC_pathway) %>%\n",
    "  summarise(count = n(), .groups = 'drop') %>%\n",
    "  group_by(samples) %>%\n",
    "  mutate(prop = count / sum(count)) %>%\n",
    "  ungroup() %>%\n",
    "  mutate(samples = factor(samples, levels = sort(unique(samples))))\n",
    "\n",
    "# plot\n",
    "pathway_sample = ggplot(Feature_per_sample_long_pathway, aes(x = samples, y = prop, fill = NPC_pathway)) +\n",
    "  geom_bar(stat = \"identity\", position = \"fill\") +\n",
    "  scale_y_continuous(labels = scales::percent_format()) +\n",
    "  scale_fill_manual(values = custom_color_palette) +\n",
    "  labs(fill = \"Feature Pathway\", x = NULL, y = NULL) +\n",
    "  theme_minimal() +\n",
    "  theme(axis.text.x = element_text(angle = 60, hjust = 1)) +\n",
    "  annotate(\"text\", x = Inf, y = Inf, label = \"\", \n",
    "           hjust = 1.1, vjust = 1.1, size = 6, fontface = \"bold\", color = \"black\")\n",
    "\n",
    "# Save the plot in the 'plot' folder'\n",
    "ggsave(\"plot/proportion_pathway_sample.png\", plot = pathway_sample, width = 10, height = 6)\n",
    "\n",
    "pathway_sample\n",
    "\n"
   ]
  },
  {
   "cell_type": "markdown",
   "id": "69d0695c-9781-4d8e-8b0e-4f7c55ba3891",
   "metadata": {},
   "source": [
    "# Part 4\n",
    "## Proportion of Superclass taxonomy per sample"
   ]
  },
  {
   "cell_type": "code",
   "execution_count": null,
   "id": "ed47aad5-ad0d-44e2-bc70-f433b15aa35c",
   "metadata": {},
   "outputs": [],
   "source": [
    "# custom color pallette\n",
    "custom_color_palette <- c(\n",
    "  \"#1b9e77\", \"#d95f02\", \"#7570b3\", \"#e7298a\", \"#66a61e\", \"#e6ab02\", \"#a6761d\", \"#666666\",\n",
    "  \"#8dd3c7\", \"#ffffb3\", \"#bebada\", \"#fb8072\", \"#80b1d3\", \"#fdb462\", \"#b3de69\", \"#fccde5\",\n",
    "  \"#e41a1c\", \"#8B8878\", \"#a6cee3\", \"#1f78b4\", \"#b2df8a\", \"#33a02c\", \"#fb9a99\", \"#e31a1c\",\n",
    "  \"#fdbf6f\", \"#ff7f00\", \"#cab2d6\", \"#6a3d9a\", \"#ffff99\", \"#b15928\"\n",
    ")"
   ]
  },
  {
   "cell_type": "code",
   "execution_count": null,
   "id": "de69537b-645b-4465-8d4d-e7444d9267d7",
   "metadata": {},
   "outputs": [],
   "source": [
    "# Transforming data to long format for visualization\n",
    "Feature_per_sample_long_superclass  <- Feature_per_sample_long %>%\n",
    "  separate_rows(samples, sep = \",\") %>%\n",
    "  mutate(samples = trimws(samples)) %>%\n",
    "  mutate(NPC_superclass = ifelse(NPC_superclass %in% (Feature_per_sample_long %>%\n",
    "                                                        count(NPC_superclass) %>%\n",
    "                                                        top_n(25, wt = n) %>%\n",
    "                                                        pull(NPC_superclass)), NPC_superclass, \"Others\")) %>%\n",
    "  group_by(samples, NPC_superclass) %>%\n",
    "  summarise(count = n(), .groups = 'drop') %>%\n",
    "  group_by(samples) %>%\n",
    "  mutate(prop = count / sum(count)) %>%\n",
    "  ungroup() %>%\n",
    "  mutate(samples = factor(samples, levels = sort(unique(samples))))\n",
    "\n",
    "# plot\n",
    "superclass_sample = ggplot(Feature_per_sample_long_superclass, aes(x = samples, y = prop, fill = NPC_superclass)) +\n",
    "  geom_bar(stat = \"identity\", position = \"fill\") +\n",
    "  scale_y_continuous(labels = scales::percent_format()) +\n",
    "  scale_fill_manual(values = custom_color_palette) +\n",
    "  labs(fill = \"Feature Superclass\", x = NULL, y = NULL) +\n",
    "  theme_minimal() +\n",
    "  theme(axis.text.x = element_text(angle = 60, hjust = 1)) +\n",
    "  annotate(\"text\", x = Inf, y = Inf, label = \"\", \n",
    "           hjust = 1.1, vjust = 1.1, size = 6, fontface = \"bold\", color = \"black\")\n",
    "\n",
    "# Save the plot in the 'plot' folder'\n",
    "ggsave(\"plot/proportion_superclass_sample.png\", plot = superclass_sample, width = 10, height = 6)\n",
    "\n",
    "superclass_sample\n"
   ]
  },
  {
   "cell_type": "markdown",
   "id": "7d4edcae-e1ca-4060-8b30-9fb58244b4cf",
   "metadata": {},
   "source": [
    "# Part 5\n",
    "## Proportion of Class taxonomy per sample"
   ]
  },
  {
   "cell_type": "code",
   "execution_count": null,
   "id": "4f1c6527-e332-4b83-a798-17057e29a527",
   "metadata": {},
   "outputs": [],
   "source": [
    "custom_color_palette <- c(\n",
    "  \"#1b9e77\", \"#d95f02\", \"#7570b3\", \"#e7298a\", \"#66a61e\", \"#e6ab02\", \"#a6761d\", \"#666666\",\n",
    "  \"#8dd3c7\", \"#ffffb3\", \"#bebada\", \"#fb8072\", \"#80b1d3\", \"#fdb462\", \"#b3de69\", \"#fccde5\",\n",
    "  \"#e41a1c\", \"#8B8878\", \"#a6cee3\", \"#1f78b4\", \"#b2df8a\", \"#33a02c\", \"#fb9a99\", \"#e31a1c\",\n",
    "  \"#fdbf6f\", \"#ff7f00\", \"#cab2d6\", \"#6a3d9a\", \"#ffff99\", \"#b15928\"\n",
    ")"
   ]
  },
  {
   "cell_type": "code",
   "execution_count": null,
   "id": "eeaf2274-7c3d-457c-b722-a552977f61fa",
   "metadata": {},
   "outputs": [],
   "source": [
    "Quant_canopus_class <- Quant %>%\n",
    "    left_join(Canopus, by = c(\"row ID\" = \"mappingFeatureId\")) %>%\n",
    "    select(   -`identified by n=`,-`auto MS2 verify`,-`neutral M mass`, -`partners`, \n",
    "              -`annotation network number`,  -`best ion`,-`correlation group ID`, -`row CCS`,-`row m/z`,\n",
    "              -`row retention time`, -`row ion mobility`, -`row ion mobility unit` ,-ionMass, -formulaRank, \n",
    "              -formulaId, -alignedFeatureId, -overallFeatureQuality, -retentionTimeInSeconds,\n",
    "              -retentionTimeInMinutes, -molecularFormula, -adduct, -precursorFormula, -`NPC#superclass`,\n",
    "              -`NPC#pathway`, -`NPC#pathway Probability`, -`NPC#superclass Probability`, \n",
    "              -`ClassyFire#most specific class`, -`ClassyFire#most specific class Probability`,\n",
    "              -`ClassyFire#level 5`, -`ClassyFire#level 5 Probability`, -`ClassyFire#superclass probability`, \n",
    "              -`ClassyFire#all classifications`, -`ClassyFire#class Probability`, -`ClassyFire#class`, \n",
    "              -`ClassyFire#superclass`, -`ClassyFire#subclass`, -`ClassyFire#subclass Probability`, -`NPC#class Probability`)\n",
    "  \n",
    "  Feature_per_sample_class <- data.frame(\n",
    "    Precursor = Quant_precurssor$`row ID`,\n",
    "    samples = sapply(apply(Quant_precurssor[, 2:ncol(Quant_precurssor)], 1, get_present_samples), \n",
    "                     function(x) paste(sub(\"\\\\..*\", \"\", unlist(strsplit(x, \",\"))), collapse = \",\")),  # Limpia cada muestra\n",
    "    NPC_class = Quant_canopus_class$`NPC#class`\n",
    "  )\n",
    "  \n",
    "  \n",
    "  # Transforming data to long format for visualization\n",
    "  Feature_per_sample_long_class  <- Feature_per_sample_class %>%\n",
    "    separate_rows(samples, sep = \",\") %>%\n",
    "    mutate(samples = trimws(samples)) %>%\n",
    "    mutate(NPC_class = ifelse(NPC_class %in% (Feature_per_sample_class %>%\n",
    "                                                    count(NPC_class) %>%\n",
    "                                                    top_n(30, wt = n) %>%\n",
    "                                                    pull(NPC_class)), NPC_class, \"Others\")) %>%\n",
    "    group_by(samples, NPC_class) %>%\n",
    "    summarise(count = n(), .groups = 'drop') %>%\n",
    "    group_by(samples) %>%\n",
    "    mutate(prop = count / sum(count)) %>%\n",
    "    ungroup() %>%\n",
    "    mutate(samples = factor(samples, levels = sort(unique(samples))))\n",
    "  \n",
    "  # plot\n",
    "  class_sample = ggplot(Feature_per_sample_long_class, aes(x = samples, y = prop, fill = NPC_class)) +\n",
    "    geom_bar(stat = \"identity\", position = \"fill\") +\n",
    "    scale_y_continuous(labels = scales::percent_format()) +\n",
    "    scale_fill_manual(values = custom_color_palette) +\n",
    "    labs(fill = \"Feature Class\", x = NULL, y = NULL) +\n",
    "    theme_minimal() +\n",
    "    theme(axis.text.x = element_text(angle = 60, hjust = 1)) +\n",
    "    annotate(\"text\", x = Inf, y = Inf, label = \"\", \n",
    "             hjust = 1.1, vjust = 1.1, size = 6, fontface = \"bold\", color = \"black\")\n",
    "  \n",
    "  # Save the plot in the 'plot' folder'\n",
    "  ggsave(\"plot/proportion_class_sample.png\", plot = class_sample, width = 10, height = 6)\n",
    "  \n",
    "  class_sample"
   ]
  }
 ],
 "metadata": {
  "kernelspec": {
   "display_name": "R",
   "language": "R",
   "name": "ir"
  },
  "language_info": {
   "codemirror_mode": "r",
   "file_extension": ".r",
   "mimetype": "text/x-r-source",
   "name": "R",
   "pygments_lexer": "r",
   "version": "4.4.2"
  }
 },
 "nbformat": 4,
 "nbformat_minor": 5
}
